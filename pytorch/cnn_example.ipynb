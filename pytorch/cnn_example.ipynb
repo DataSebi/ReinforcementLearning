{
 "cells": [
  {
   "cell_type": "markdown",
   "metadata": {},
   "source": [
    "# CNN\n",
    "## Imports"
   ]
  },
  {
   "cell_type": "code",
   "execution_count": 2,
   "metadata": {},
   "outputs": [],
   "source": [
    "import torch\n",
    "import torch.nn as nn\n",
    "import torch.nn.functional as F\n",
    "import torch.optim as optim\n",
    "\n",
    "import torchvision\n",
    "import torchvision.transforms as transforms\n",
    "\n",
    "\n",
    "#import numpy as np\n",
    "#import matplotlib.pyplot as plt"
   ]
  },
  {
   "cell_type": "markdown",
   "metadata": {},
   "source": [
    "## Network"
   ]
  },
  {
   "cell_type": "code",
   "execution_count": 3,
   "metadata": {},
   "outputs": [],
   "source": [
    "class Network(nn.Module):\n",
    "    \n",
    "    def __init__(self):\n",
    "        super(Network, self).__init__()\n",
    "        #The words kernal and filter are interchangeable\n",
    "        self.conv1=nn.Conv2d(in_channels=1, out_channels=6, kernel_size=5) \n",
    "        self.conv2=nn.Conv2d(in_channels=6, out_channels=12, kernel_size=5)\n",
    "        \n",
    "        self.fc1=nn.Linear(in_features= 12*4*4, out_features=120)\n",
    "        self.fc2=nn.Linear(in_features= 120, out_features=60)\n",
    "        self.out=nn.Linear(in_features= 60, out_features=10)\n",
    "        \n",
    "    def forward(self, t):\n",
    "        # (1) input layer\n",
    "        t = t\n",
    "        \n",
    "        # (2) hidden conv layer\n",
    "        t = self.conv1(t)\n",
    "        t = F.relu(t)\n",
    "        t = F.max_pool2d(t, kernel_size=2, stride=2)\n",
    "        \n",
    "        # (3) hidden conv layer\n",
    "        t = self.conv2(t)\n",
    "        t = F.relu(t)\n",
    "        t = F.max_pool2d(t, kernel_size=2, stride=2)\n",
    "        \n",
    "        # (4) hidden linear layer\n",
    "        t = t.reshape(-1, 12 * 4 * 4)\n",
    "        t = self.fc1(t)\n",
    "        t = F.relu(t)\n",
    "        \n",
    "        # (5) hidden linear layer\n",
    "        t = self.fc2(t)\n",
    "        t = F.relu(t)\n",
    "        \n",
    "        # (6) output layer\n",
    "        t = self.out(t)\n",
    "        #t = F.softmax(t, dim=1)\n",
    "        \n",
    "        return t\n"
   ]
  },
  {
   "cell_type": "markdown",
   "metadata": {},
   "source": [
    "## Data"
   ]
  },
  {
   "cell_type": "code",
   "execution_count": 4,
   "metadata": {},
   "outputs": [],
   "source": [
    "train_set = torchvision.datasets.FashionMNIST(\n",
    "    root = './data'\n",
    "    ,train=True\n",
    "    ,download=True\n",
    "    ,transform=transforms.Compose([\n",
    "        transforms.ToTensor()\n",
    "    ])\n",
    ")"
   ]
  },
  {
   "cell_type": "markdown",
   "metadata": {},
   "source": [
    "## Training"
   ]
  },
  {
   "cell_type": "code",
   "execution_count": 5,
   "metadata": {},
   "outputs": [
    {
     "name": "stdout",
     "output_type": "stream",
     "text": [
      "epoch: 0, total_correc: 47641, loss: 331.71572333574295\n",
      "epoch: 1, total_correc: 51460, loss: 233.35103204846382\n",
      "epoch: 2, total_correc: 52117, loss: 212.62347108125687\n",
      "epoch: 3, total_correc: 52542, loss: 203.52921551465988\n",
      "epoch: 4, total_correc: 52713, loss: 197.0048868060112\n",
      "epoch: 5, total_correc: 52850, loss: 194.96347169578075\n",
      "epoch: 6, total_correc: 52947, loss: 191.549305960536\n",
      "epoch: 7, total_correc: 52966, loss: 189.81929643452168\n",
      "epoch: 8, total_correc: 53302, loss: 181.736770555377\n",
      "epoch: 9, total_correc: 53273, loss: 182.00665912032127\n",
      "CPU times: user 18min 48s, sys: 45 s, total: 19min 33s\n",
      "Wall time: 3min 12s\n"
     ]
    }
   ],
   "source": [
    "%%time\n",
    "network = Network()\n",
    "\n",
    "def get_num_correct(preds, labels):\n",
    "    return preds.argmax(dim=1).eq(labels).sum().item()\n",
    "\n",
    "train_loader = torch.utils.data.DataLoader(train_set, batch_size=100)\n",
    "optimizer = optim.Adam(network.parameters(),lr=0.01)\n",
    "\n",
    "for epoch in range(10):\n",
    "    total_loss = 0\n",
    "    total_correct = 0\n",
    "\n",
    "    for batch in train_loader:\n",
    "        images, labels = batch\n",
    "        preds = network(images)\n",
    "        loss = F.cross_entropy(preds, labels)\n",
    "\n",
    "        optimizer.zero_grad()\n",
    "        loss.backward() # calculates gradient\n",
    "        optimizer.step() # update weights\n",
    "\n",
    "        total_loss += loss.item()\n",
    "        total_correct += get_num_correct(preds, labels)\n",
    "\n",
    "    print(f\"epoch: {epoch}, total_correc: {total_correct}, loss: {total_loss}\")\n",
    "    \n",
    "# cpu mac: Wall time: 3min 10s\n",
    "# cpu home: \n",
    "# gpu home:\n"
   ]
  },
  {
   "cell_type": "markdown",
   "metadata": {},
   "source": [
    "## Training on GPU"
   ]
  },
  {
   "cell_type": "code",
   "execution_count": 6,
   "metadata": {},
   "outputs": [
    {
     "name": "stdout",
     "output_type": "stream",
     "text": [
      "cpu\n",
      "epoch: 0, total_correc: 47222, loss: 337.46857437491417\n",
      "epoch: 1, total_correc: 51470, loss: 231.14599557220936\n",
      "epoch: 2, total_correc: 51887, loss: 216.7275089174509\n",
      "epoch: 3, total_correc: 52372, loss: 205.03373081982136\n",
      "epoch: 4, total_correc: 52575, loss: 199.91458359360695\n",
      "epoch: 5, total_correc: 52567, loss: 198.07638183236122\n",
      "epoch: 6, total_correc: 52897, loss: 189.37615332007408\n",
      "epoch: 7, total_correc: 53112, loss: 186.7090909332037\n",
      "epoch: 8, total_correc: 52994, loss: 187.443355768919\n",
      "epoch: 9, total_correc: 53277, loss: 181.96383042633533\n",
      "CPU times: user 18min 41s, sys: 39.9 s, total: 19min 21s\n",
      "Wall time: 3min 6s\n"
     ]
    }
   ],
   "source": [
    "%%time\n",
    "network = Network()\n",
    "device = torch.device(\"cuda:0\" if torch.cuda.is_available() else \"cpu\")\n",
    "\n",
    "# Assuming that we are on a CUDA machine, this should print a CUDA device:\n",
    "print(device)\n",
    "\n",
    "\n",
    "def get_num_correct(preds, labels):\n",
    "    return preds.argmax(dim=1).eq(labels).sum().item()\n",
    "\n",
    "train_loader = torch.utils.data.DataLoader(train_set, batch_size=100)\n",
    "optimizer = optim.Adam(network.parameters(),lr=0.01)\n",
    "\n",
    "for epoch in range(10):\n",
    "    total_loss = 0\n",
    "    total_correct = 0\n",
    "\n",
    "    for batch in train_loader:\n",
    "        images, labels = batch[0].to(device), batch[1].to(device)\n",
    "        preds = network(images)\n",
    "        loss = F.cross_entropy(preds, labels)\n",
    "\n",
    "        optimizer.zero_grad()\n",
    "        loss.backward() # calculates gradient\n",
    "        optimizer.step() # update weights\n",
    "\n",
    "        total_loss += loss.item()\n",
    "        total_correct += get_num_correct(preds, labels)\n",
    "\n",
    "    print(f\"epoch: {epoch}, total_correc: {total_correct}, loss: {total_loss}\")"
   ]
  },
  {
   "cell_type": "markdown",
   "metadata": {},
   "source": [
    "## Prediction"
   ]
  },
  {
   "cell_type": "code",
   "execution_count": 35,
   "metadata": {},
   "outputs": [
    {
     "name": "stdout",
     "output_type": "stream",
     "text": [
      "Our pred: 5 actual label: 9\n"
     ]
    }
   ],
   "source": [
    "sample = next(iter(train_set))\n",
    "image, label = sample\n",
    "\n",
    "output = network(image.unsqueeze(0))\n",
    "pred = torch.argmax(output, dim=1).item()\n",
    "\n",
    "print(f\"Our pred: {pred} actual label: {label}\")"
   ]
  },
  {
   "cell_type": "code",
   "execution_count": null,
   "metadata": {},
   "outputs": [],
   "source": []
  },
  {
   "cell_type": "code",
   "execution_count": null,
   "metadata": {},
   "outputs": [],
   "source": []
  }
 ],
 "metadata": {
  "kernelspec": {
   "display_name": "ReinforcementLearning",
   "language": "python",
   "name": "reinforcementlearning"
  },
  "language_info": {
   "codemirror_mode": {
    "name": "ipython",
    "version": 3
   },
   "file_extension": ".py",
   "mimetype": "text/x-python",
   "name": "python",
   "nbconvert_exporter": "python",
   "pygments_lexer": "ipython3",
   "version": "3.7.5"
  }
 },
 "nbformat": 4,
 "nbformat_minor": 2
}
